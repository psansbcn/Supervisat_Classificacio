{
 "cells": [
  {
   "cell_type": "markdown",
   "id": "aaeb21ab",
   "metadata": {},
   "source": [
    "### Classification models\n",
    "##### With Departure Delay Column"
   ]
  },
  {
   "cell_type": "code",
   "execution_count": 10,
   "id": "0b547f14",
   "metadata": {},
   "outputs": [],
   "source": [
    "import numpy as np\n",
    "import pandas as pd\n",
    "\n",
    "import warnings\n",
    "warnings.filterwarnings('ignore')\n",
    "warnings.simplefilter('ignore')\n",
    "\n",
    "from sklearn.model_selection import train_test_split, cross_val_score, StratifiedKFold\n",
    "from sklearn import metrics\n",
    "from sklearn.neighbors import KNeighborsClassifier\n",
    "from sklearn import svm\n",
    "from sklearn.linear_model import LogisticRegression, LinearRegression\n",
    "\n",
    "from sklearn.tree import DecisionTreeClassifier\n",
    "from sklearn.neural_network import MLPClassifier\n",
    "from sklearn.naive_bayes import GaussianNB\n",
    "from sklearn.gaussian_process import GaussianProcessClassifier\n",
    "from sklearn.gaussian_process.kernels import RBF\n",
    "\n",
    "from sklearn.ensemble import RandomForestClassifier, AdaBoostClassifier\n",
    "from sklearn.metrics import confusion_matrix, ConfusionMatrixDisplay, f1_score, classification_report\n",
    "\n",
    "\n",
    "import xgboost as xgb"
   ]
  },
  {
   "cell_type": "markdown",
   "id": "9e18c9d0",
   "metadata": {},
   "source": [
    "##### Load the SQL db for later comparison"
   ]
  },
  {
   "cell_type": "code",
   "execution_count": 3,
   "id": "5506859d",
   "metadata": {},
   "outputs": [],
   "source": [
    "import sqlite3\n",
    "conn=sqlite3.connect(\"models.db\")\n",
    "cur=conn.cursor()"
   ]
  },
  {
   "cell_type": "code",
   "execution_count": 4,
   "id": "9282f03e",
   "metadata": {},
   "outputs": [
    {
     "data": {
      "text/html": [
       "<div>\n",
       "<style scoped>\n",
       "    .dataframe tbody tr th:only-of-type {\n",
       "        vertical-align: middle;\n",
       "    }\n",
       "\n",
       "    .dataframe tbody tr th {\n",
       "        vertical-align: top;\n",
       "    }\n",
       "\n",
       "    .dataframe thead th {\n",
       "        text-align: right;\n",
       "    }\n",
       "</style>\n",
       "<table border=\"1\" class=\"dataframe\">\n",
       "  <thead>\n",
       "    <tr style=\"text-align: right;\">\n",
       "      <th></th>\n",
       "      <th>DepDelay</th>\n",
       "      <th>CRSElapsedTime</th>\n",
       "      <th>Distance</th>\n",
       "      <th>ArrDelay</th>\n",
       "      <th>DepTime_sin</th>\n",
       "      <th>DepTime_cos</th>\n",
       "      <th>ArrTime_sin</th>\n",
       "      <th>ArrTime_cos</th>\n",
       "      <th>Month_sin</th>\n",
       "      <th>Month_cos</th>\n",
       "      <th>DayOfWeek_sin</th>\n",
       "      <th>DayOfWeek_cos</th>\n",
       "      <th>origin_freq</th>\n",
       "      <th>dest_freq</th>\n",
       "      <th>carrier</th>\n",
       "    </tr>\n",
       "  </thead>\n",
       "  <tbody>\n",
       "    <tr>\n",
       "      <th>0</th>\n",
       "      <td>-0.414634</td>\n",
       "      <td>0.960627</td>\n",
       "      <td>2.322630</td>\n",
       "      <td>0</td>\n",
       "      <td>0.916712</td>\n",
       "      <td>-0.399549</td>\n",
       "      <td>0.592013</td>\n",
       "      <td>-0.805928</td>\n",
       "      <td>-5.000000e-01</td>\n",
       "      <td>-0.866025</td>\n",
       "      <td>-0.433884</td>\n",
       "      <td>-0.900969</td>\n",
       "      <td>0.018217</td>\n",
       "      <td>0.030933</td>\n",
       "      <td>0.050732</td>\n",
       "    </tr>\n",
       "    <tr>\n",
       "      <th>1</th>\n",
       "      <td>-0.341463</td>\n",
       "      <td>0.457457</td>\n",
       "      <td>-0.010703</td>\n",
       "      <td>1</td>\n",
       "      <td>0.697790</td>\n",
       "      <td>-0.716302</td>\n",
       "      <td>-0.096714</td>\n",
       "      <td>-0.995312</td>\n",
       "      <td>0.000000e+00</td>\n",
       "      <td>1.000000</td>\n",
       "      <td>0.781831</td>\n",
       "      <td>0.623490</td>\n",
       "      <td>0.064614</td>\n",
       "      <td>0.014071</td>\n",
       "      <td>0.072968</td>\n",
       "    </tr>\n",
       "    <tr>\n",
       "      <th>2</th>\n",
       "      <td>1.682927</td>\n",
       "      <td>0.558559</td>\n",
       "      <td>-0.094801</td>\n",
       "      <td>1</td>\n",
       "      <td>-0.995056</td>\n",
       "      <td>0.099320</td>\n",
       "      <td>-0.809017</td>\n",
       "      <td>0.587785</td>\n",
       "      <td>5.000000e-01</td>\n",
       "      <td>-0.866025</td>\n",
       "      <td>0.433884</td>\n",
       "      <td>-0.900969</td>\n",
       "      <td>0.016379</td>\n",
       "      <td>0.014071</td>\n",
       "      <td>0.050732</td>\n",
       "    </tr>\n",
       "    <tr>\n",
       "      <th>3</th>\n",
       "      <td>0.390244</td>\n",
       "      <td>0.303303</td>\n",
       "      <td>-0.423547</td>\n",
       "      <td>1</td>\n",
       "      <td>0.824126</td>\n",
       "      <td>-0.566406</td>\n",
       "      <td>0.801254</td>\n",
       "      <td>-0.598325</td>\n",
       "      <td>1.224647e-16</td>\n",
       "      <td>-1.000000</td>\n",
       "      <td>0.000000</td>\n",
       "      <td>1.000000</td>\n",
       "      <td>0.018217</td>\n",
       "      <td>0.008873</td>\n",
       "      <td>0.034908</td>\n",
       "    </tr>\n",
       "    <tr>\n",
       "      <th>4</th>\n",
       "      <td>-0.073171</td>\n",
       "      <td>0.208709</td>\n",
       "      <td>-0.330275</td>\n",
       "      <td>1</td>\n",
       "      <td>-0.978689</td>\n",
       "      <td>-0.205350</td>\n",
       "      <td>-0.962455</td>\n",
       "      <td>0.271440</td>\n",
       "      <td>0.000000e+00</td>\n",
       "      <td>1.000000</td>\n",
       "      <td>0.433884</td>\n",
       "      <td>-0.900969</td>\n",
       "      <td>0.030147</td>\n",
       "      <td>0.003692</td>\n",
       "      <td>0.053159</td>\n",
       "    </tr>\n",
       "  </tbody>\n",
       "</table>\n",
       "</div>"
      ],
      "text/plain": [
       "   DepDelay  CRSElapsedTime  Distance  ArrDelay  DepTime_sin  DepTime_cos  \\\n",
       "0 -0.414634        0.960627  2.322630         0     0.916712    -0.399549   \n",
       "1 -0.341463        0.457457 -0.010703         1     0.697790    -0.716302   \n",
       "2  1.682927        0.558559 -0.094801         1    -0.995056     0.099320   \n",
       "3  0.390244        0.303303 -0.423547         1     0.824126    -0.566406   \n",
       "4 -0.073171        0.208709 -0.330275         1    -0.978689    -0.205350   \n",
       "\n",
       "   ArrTime_sin  ArrTime_cos     Month_sin  Month_cos  DayOfWeek_sin  \\\n",
       "0     0.592013    -0.805928 -5.000000e-01  -0.866025      -0.433884   \n",
       "1    -0.096714    -0.995312  0.000000e+00   1.000000       0.781831   \n",
       "2    -0.809017     0.587785  5.000000e-01  -0.866025       0.433884   \n",
       "3     0.801254    -0.598325  1.224647e-16  -1.000000       0.000000   \n",
       "4    -0.962455     0.271440  0.000000e+00   1.000000       0.433884   \n",
       "\n",
       "   DayOfWeek_cos  origin_freq  dest_freq   carrier  \n",
       "0      -0.900969     0.018217   0.030933  0.050732  \n",
       "1       0.623490     0.064614   0.014071  0.072968  \n",
       "2      -0.900969     0.016379   0.014071  0.050732  \n",
       "3       1.000000     0.018217   0.008873  0.034908  \n",
       "4      -0.900969     0.030147   0.003692  0.053159  "
      ]
     },
     "execution_count": 4,
     "metadata": {},
     "output_type": "execute_result"
    }
   ],
   "source": [
    "#Loading the dataset\n",
    "df=pd.read_csv('depdelay20enc.csv', index_col=False, warn_bad_lines=True, error_bad_lines=False)\n",
    "df=df.drop(['Unnamed: 0'],axis=1)\n",
    "df = df.sample(frac =.05).reset_index().drop(['index'], axis=1)\n",
    "df.head()"
   ]
  },
  {
   "cell_type": "markdown",
   "id": "110cbf34",
   "metadata": {},
   "source": [
    "##### Split Train and Test  and set ArrDelay as target column"
   ]
  },
  {
   "cell_type": "code",
   "execution_count": 5,
   "id": "34a10b8d",
   "metadata": {},
   "outputs": [],
   "source": [
    "X,y = df.loc[:, df.columns != 'ArrDelay'],df.loc[:, df.columns == 'ArrDelay']\n",
    "\n",
    "X_train,X_test, y_train, y_test = train_test_split(X,y, test_size=0.2, random_state=42)"
   ]
  },
  {
   "cell_type": "markdown",
   "id": "59d5d59a",
   "metadata": {},
   "source": [
    "##### Support Vector Classification"
   ]
  },
  {
   "cell_type": "code",
   "execution_count": 5,
   "id": "67930e37",
   "metadata": {},
   "outputs": [
    {
     "name": "stdout",
     "output_type": "stream",
     "text": [
      "Accuracy Score: 0.8403\n"
     ]
    }
   ],
   "source": [
    "clf = svm.SVC(kernel='linear', random_state=42, gamma='auto')\n",
    "scores = cross_val_score(clf, X, y, cv=StratifiedKFold(n_splits=5), scoring='accuracy').mean()\n",
    "print('Accuracy Score: %.4f' % scores)"
   ]
  },
  {
   "cell_type": "code",
   "execution_count": 6,
   "id": "43ff8aa3",
   "metadata": {},
   "outputs": [],
   "source": [
    "clf.fit(X_train, y_train)\n",
    "y_pred = clf.predict(X_test)"
   ]
  },
  {
   "cell_type": "code",
   "execution_count": 7,
   "id": "6166897b",
   "metadata": {},
   "outputs": [],
   "source": [
    "cm=confusion_matrix(y_test, y_pred)\n",
    "tn, fp, fn, tp = confusion_matrix(y_test, y_pred).ravel()"
   ]
  },
  {
   "cell_type": "code",
   "execution_count": 8,
   "id": "1f52f870",
   "metadata": {},
   "outputs": [
    {
     "data": {
      "text/plain": [
       "<sklearn.metrics._plot.confusion_matrix.ConfusionMatrixDisplay at 0x7ff31cd5cd60>"
      ]
     },
     "execution_count": 8,
     "metadata": {},
     "output_type": "execute_result"
    },
    {
     "data": {
      "image/png": "[encoded data removed]",
      "text/plain": [
       "<Figure size 432x288 with 2 Axes>"
      ]
     },
     "metadata": {
      "needs_background": "light"
     },
     "output_type": "display_data"
    }
   ],
   "source": [
    "disp = ConfusionMatrixDisplay(confusion_matrix=cm,display_labels=clf.classes_)\n",
    "disp.plot(cmap='GnBu') "
   ]
  },
  {
   "cell_type": "code",
   "execution_count": 9,
   "id": "fe72db84",
   "metadata": {},
   "outputs": [
    {
     "name": "stdout",
     "output_type": "stream",
     "text": [
      "Specificity: 0.8534\n",
      "Accuracy: 0.8421\n",
      "Precision: 0.9105\n",
      "Recall or Sensitivity: 0.8358\n",
      "F1 Score: 0.8715\n"
     ]
    }
   ],
   "source": [
    "#Specificity = TN / (TN + FP)\n",
    "spec= round(tn/(tn+fp), 4)\n",
    "acc= round(metrics.accuracy_score(y_test, y_pred), 4)\n",
    "prec= round(metrics.precision_score(y_test, y_pred), 4)\n",
    "rec= round(metrics.recall_score(y_test, y_pred), 4)\n",
    "f1= round(metrics.f1_score(y_test, y_pred), 4)\n",
    "print ('Specificity:',spec)\n",
    "print ('Accuracy:',acc)\n",
    "print ('Precision:',prec)\n",
    "print ('Recall or Sensitivity:',rec)\n",
    "print ('F1 Score:',f1)"
   ]
  },
  {
   "cell_type": "code",
   "execution_count": 10,
   "id": "cbc5f79c",
   "metadata": {},
   "outputs": [],
   "source": [
    "model='sv1'\n",
    "depdelay='yes'\n",
    "\n",
    "cur.execute(\"INSERT OR REPLACE INTO s13_models(model,dep_delay,Specificity, Accuracy, Precision, Recall, f1_score) VALUES(?,?,?,?,?,?,?)\",(model,depdelay,spec,acc,prec,rec,f1))\n",
    "conn.commit()"
   ]
  },
  {
   "cell_type": "markdown",
   "id": "adf02318",
   "metadata": {},
   "source": [
    "##### KNN K-Nearest Neighbors"
   ]
  },
  {
   "cell_type": "code",
   "execution_count": 11,
   "id": "5d24e677",
   "metadata": {},
   "outputs": [
    {
     "name": "stdout",
     "output_type": "stream",
     "text": [
      "Accuracy Score: 0.7915\n"
     ]
    }
   ],
   "source": [
    "knn = KNeighborsClassifier(n_neighbors=32)\n",
    "score=cross_val_score(knn, X, y, cv=StratifiedKFold(n_splits=5), scoring='accuracy').mean()\n",
    "print('Accuracy Score: %.4f' % score)"
   ]
  },
  {
   "cell_type": "code",
   "execution_count": 12,
   "id": "be9f1944",
   "metadata": {},
   "outputs": [
    {
     "data": {
      "text/plain": [
       "<sklearn.metrics._plot.confusion_matrix.ConfusionMatrixDisplay at 0x7ff3183ed6d0>"
      ]
     },
     "execution_count": 12,
     "metadata": {},
     "output_type": "execute_result"
    },
    {
     "data": {
      "image/png": "[encoded data removed]",
      "text/plain": [
       "<Figure size 432x288 with 2 Axes>"
      ]
     },
     "metadata": {
      "needs_background": "light"
     },
     "output_type": "display_data"
    }
   ],
   "source": [
    "knn.fit(X_train, y_train)\n",
    "y_pred = knn.predict(X_test)\n",
    "\n",
    "cm=confusion_matrix(y_test, y_pred)\n",
    "tn, fp, fn, tp = confusion_matrix(y_test, y_pred).ravel()\n",
    "\n",
    "disp = ConfusionMatrixDisplay(confusion_matrix=cm,display_labels=clf.classes_)\n",
    "disp.plot(cmap='GnBu') "
   ]
  },
  {
   "cell_type": "code",
   "execution_count": 13,
   "id": "b8191b0a",
   "metadata": {},
   "outputs": [
    {
     "name": "stdout",
     "output_type": "stream",
     "text": [
      "Specificity: 0.8253\n",
      "Accuracy: 0.8014\n",
      "Precision: 0.8895\n",
      "Recall or Sensitivity: 0.788\n",
      "F1 Score: 0.8357\n"
     ]
    }
   ],
   "source": [
    "spec= round(tn/(tn+fp), 4)\n",
    "acc= round(metrics.accuracy_score(y_test, y_pred), 4)\n",
    "prec= round(metrics.precision_score(y_test, y_pred), 4)\n",
    "rec= round(metrics.recall_score(y_test, y_pred), 4)\n",
    "f1= round(metrics.f1_score(y_test, y_pred), 4)\n",
    "print ('Specificity:',spec)\n",
    "print ('Accuracy:',acc)\n",
    "print ('Precision:',prec)\n",
    "print ('Recall or Sensitivity:',rec)\n",
    "print ('F1 Score:',f1)"
   ]
  },
  {
   "cell_type": "code",
   "execution_count": 14,
   "id": "0b0207d6",
   "metadata": {},
   "outputs": [],
   "source": [
    "model='knn1'\n",
    "depdelay='yes'\n",
    "\n",
    "cur.execute(\"INSERT OR REPLACE INTO s13_models(model,dep_delay,Specificity, Accuracy, Precision, Recall, f1_score) VALUES(?,?,?,?,?,?,?)\",(model,depdelay,spec,acc,prec,rec,f1))\n",
    "conn.commit()"
   ]
  },
  {
   "cell_type": "markdown",
   "id": "757aac51",
   "metadata": {},
   "source": [
    "\n",
    "\n",
    "\n",
    "##### logistic regression"
   ]
  },
  {
   "cell_type": "code",
   "execution_count": 15,
   "id": "b84984af",
   "metadata": {},
   "outputs": [
    {
     "name": "stdout",
     "output_type": "stream",
     "text": [
      "Accuracy Score: 0.8415\n"
     ]
    }
   ],
   "source": [
    "logreg = LogisticRegression(solver='liblinear')\n",
    "score=cross_val_score(logreg, X, y, cv=StratifiedKFold(n_splits=5), scoring='accuracy').mean()\n",
    "print('Accuracy Score: %.4f' % score)"
   ]
  },
  {
   "cell_type": "code",
   "execution_count": 16,
   "id": "bafb3a3d",
   "metadata": {},
   "outputs": [
    {
     "data": {
      "text/plain": [
       "<sklearn.metrics._plot.confusion_matrix.ConfusionMatrixDisplay at 0x7ff3182f6400>"
      ]
     },
     "execution_count": 16,
     "metadata": {},
     "output_type": "execute_result"
    },
    {
     "data": {
      "image/png": "[encoded data removed]",
      "text/plain": [
       "<Figure size 432x288 with 2 Axes>"
      ]
     },
     "metadata": {
      "needs_background": "light"
     },
     "output_type": "display_data"
    }
   ],
   "source": [
    "logreg.fit(X_train, y_train)\n",
    "y_pred = logreg.predict(X_test)\n",
    "\n",
    "cm=confusion_matrix(y_test, y_pred)\n",
    "tn, fp, fn, tp = confusion_matrix(y_test, y_pred).ravel()\n",
    "\n",
    "disp = ConfusionMatrixDisplay(confusion_matrix=cm,display_labels=clf.classes_)\n",
    "disp.plot(cmap='GnBu') "
   ]
  },
  {
   "cell_type": "code",
   "execution_count": 17,
   "id": "75d2e300",
   "metadata": {},
   "outputs": [
    {
     "name": "stdout",
     "output_type": "stream",
     "text": [
      "Specificity: 0.8404\n",
      "Accuracy: 0.845\n",
      "Precision: 0.9046\n",
      "Recall or Sensitivity: 0.8475\n",
      "F1 Score: 0.8751\n"
     ]
    }
   ],
   "source": [
    "spec= round(tn/(tn+fp), 4)\n",
    "acc= round(metrics.accuracy_score(y_test, y_pred), 4)\n",
    "prec= round(metrics.precision_score(y_test, y_pred), 4)\n",
    "rec= round(metrics.recall_score(y_test, y_pred), 4)\n",
    "f1= round(metrics.f1_score(y_test, y_pred), 4)\n",
    "print ('Specificity:',spec)\n",
    "print ('Accuracy:',acc)\n",
    "print ('Precision:',prec)\n",
    "print ('Recall or Sensitivity:',rec)\n",
    "print ('F1 Score:',f1)"
   ]
  },
  {
   "cell_type": "code",
   "execution_count": 18,
   "id": "269f0821",
   "metadata": {},
   "outputs": [],
   "source": [
    "model='lg1'\n",
    "depdelay='yes'\n",
    "\n",
    "cur.execute(\"INSERT OR REPLACE INTO s13_models(model,dep_delay,Specificity, Accuracy, Precision, Recall, f1_score) VALUES(?,?,?,?,?,?,?)\",(model,depdelay,spec,acc,prec,rec,f1))\n",
    "conn.commit()"
   ]
  },
  {
   "cell_type": "markdown",
   "id": "1b1b5fe5",
   "metadata": {},
   "source": [
    "\n",
    "\n",
    "\n",
    "##### Decision Tree"
   ]
  },
  {
   "cell_type": "code",
   "execution_count": 19,
   "id": "3eae131e",
   "metadata": {},
   "outputs": [
    {
     "name": "stdout",
     "output_type": "stream",
     "text": [
      "Accuracy Score: 0.8330\n"
     ]
    }
   ],
   "source": [
    "clf = DecisionTreeClassifier(criterion=\"gini\", max_depth=4, random_state=42)\n",
    "scores=cross_val_score(clf, X, y, cv=StratifiedKFold(n_splits=5), scoring='accuracy').mean()\n",
    "print('Accuracy Score: %.4f' % scores)"
   ]
  },
  {
   "cell_type": "code",
   "execution_count": 20,
   "id": "1a2581bd",
   "metadata": {},
   "outputs": [
    {
     "data": {
      "text/plain": [
       "<sklearn.metrics._plot.confusion_matrix.ConfusionMatrixDisplay at 0x7ff31866f730>"
      ]
     },
     "execution_count": 20,
     "metadata": {},
     "output_type": "execute_result"
    },
    {
     "data": {
      "image/png": "[encoded data removed]",
      "text/plain": [
       "<Figure size 432x288 with 2 Axes>"
      ]
     },
     "metadata": {
      "needs_background": "light"
     },
     "output_type": "display_data"
    }
   ],
   "source": [
    "clf.fit(X_train, y_train)\n",
    "y_pred = clf.predict(X_test)\n",
    "\n",
    "cm=confusion_matrix(y_test, y_pred)\n",
    "tn, fp, fn, tp = confusion_matrix(y_test, y_pred).ravel()\n",
    "\n",
    "disp = ConfusionMatrixDisplay(confusion_matrix=cm,display_labels=clf.classes_)\n",
    "disp.plot(cmap='GnBu') "
   ]
  },
  {
   "cell_type": "code",
   "execution_count": 21,
   "id": "407b3778",
   "metadata": {},
   "outputs": [
    {
     "name": "stdout",
     "output_type": "stream",
     "text": [
      "Specificity: 0.8209\n",
      "Accuracy: 0.8405\n",
      "Precision: 0.8946\n",
      "Recall or Sensitivity: 0.8515\n",
      "F1 Score: 0.8725\n"
     ]
    }
   ],
   "source": [
    "spec= round(tn/(tn+fp), 4)\n",
    "acc= round(metrics.accuracy_score(y_test, y_pred), 4)\n",
    "prec= round(metrics.precision_score(y_test, y_pred), 4)\n",
    "rec= round(metrics.recall_score(y_test, y_pred), 4)\n",
    "f1= round(metrics.f1_score(y_test, y_pred), 4)\n",
    "print ('Specificity:',spec)\n",
    "print ('Accuracy:',acc)\n",
    "print ('Precision:',prec)\n",
    "print ('Recall or Sensitivity:',rec)\n",
    "print ('F1 Score:',f1)"
   ]
  },
  {
   "cell_type": "code",
   "execution_count": 22,
   "id": "88d8f756",
   "metadata": {},
   "outputs": [],
   "source": [
    "model='dt1'\n",
    "depdelay='yes'\n",
    "\n",
    "cur.execute(\"INSERT OR REPLACE INTO s13_models(model,dep_delay,Specificity, Accuracy, Precision, Recall, f1_score) VALUES(?,?,?,?,?,?,?)\",(model,depdelay,spec,acc,prec,rec,f1))\n",
    "conn.commit()"
   ]
  },
  {
   "cell_type": "markdown",
   "id": "c997f728",
   "metadata": {},
   "source": [
    "\n",
    "\n",
    "\n",
    "##### neural network MLPClassifier"
   ]
  },
  {
   "cell_type": "code",
   "execution_count": 23,
   "id": "3a406272",
   "metadata": {},
   "outputs": [
    {
     "name": "stdout",
     "output_type": "stream",
     "text": [
      "Accuracy Score: 0.8425\n"
     ]
    }
   ],
   "source": [
    "mlp = MLPClassifier(hidden_layer_sizes=(20, 10, 5), max_iter=50, activation = 'relu',solver='adam',random_state=42)\n",
    "score=cross_val_score(mlp, X, y, cv=StratifiedKFold(n_splits=10), scoring='accuracy').mean()\n",
    "print('Accuracy Score: %.4f' % score)"
   ]
  },
  {
   "cell_type": "code",
   "execution_count": 24,
   "id": "2df68937",
   "metadata": {},
   "outputs": [
    {
     "data": {
      "text/plain": [
       "<sklearn.metrics._plot.confusion_matrix.ConfusionMatrixDisplay at 0x7ff32d85a7c0>"
      ]
     },
     "execution_count": 24,
     "metadata": {},
     "output_type": "execute_result"
    },
    {
     "data": {
      "image/png": "[encoded data removed]",
      "text/plain": [
       "<Figure size 432x288 with 2 Axes>"
      ]
     },
     "metadata": {
      "needs_background": "light"
     },
     "output_type": "display_data"
    }
   ],
   "source": [
    "mlp.fit(X_train, y_train)\n",
    "y_pred = mlp.predict(X_test)\n",
    "\n",
    "cm=confusion_matrix(y_test, y_pred)\n",
    "tn, fp, fn, tp = confusion_matrix(y_test, y_pred).ravel()\n",
    "\n",
    "disp = ConfusionMatrixDisplay(confusion_matrix=cm,display_labels=clf.classes_)\n",
    "disp.plot(cmap='GnBu') "
   ]
  },
  {
   "cell_type": "code",
   "execution_count": 25,
   "id": "da9659b7",
   "metadata": {},
   "outputs": [
    {
     "name": "stdout",
     "output_type": "stream",
     "text": [
      "Specificity: 0.8245\n",
      "Accuracy: 0.845\n",
      "Precision: 0.897\n",
      "Recall or Sensitivity: 0.8564\n",
      "F1 Score: 0.8762\n"
     ]
    }
   ],
   "source": [
    "spec= round(tn/(tn+fp), 4)\n",
    "acc= round(metrics.accuracy_score(y_test, y_pred), 4)\n",
    "prec= round(metrics.precision_score(y_test, y_pred), 4)\n",
    "rec= round(metrics.recall_score(y_test, y_pred), 4)\n",
    "f1= round(metrics.f1_score(y_test, y_pred), 4)\n",
    "print ('Specificity:',spec)\n",
    "print ('Accuracy:',acc)\n",
    "print ('Precision:',prec)\n",
    "print ('Recall or Sensitivity:',rec)\n",
    "print ('F1 Score:',f1)"
   ]
  },
  {
   "cell_type": "code",
   "execution_count": 26,
   "id": "bc519a97",
   "metadata": {},
   "outputs": [],
   "source": [
    "model='nn1'\n",
    "depdelay='yes'\n",
    "\n",
    "cur.execute(\"INSERT OR REPLACE INTO s13_models(model,dep_delay,Specificity, Accuracy, Precision, Recall, f1_score) VALUES(?,?,?,?,?,?,?)\",(model,depdelay,spec,acc,prec,rec,f1))\n",
    "conn.commit()"
   ]
  },
  {
   "cell_type": "markdown",
   "id": "c9ecf846",
   "metadata": {},
   "source": [
    "##### Gaussian Naive Bayes"
   ]
  },
  {
   "cell_type": "code",
   "execution_count": 27,
   "id": "f5ab8fe3",
   "metadata": {},
   "outputs": [
    {
     "name": "stdout",
     "output_type": "stream",
     "text": [
      "Accuracy Score: 0.8010\n"
     ]
    }
   ],
   "source": [
    "clf = GaussianNB()\n",
    "score=cross_val_score(clf, X, y, cv=StratifiedKFold(n_splits=5), scoring='accuracy').mean()\n",
    "print('Accuracy Score: %.4f' % score)"
   ]
  },
  {
   "cell_type": "code",
   "execution_count": 28,
   "id": "a651022f",
   "metadata": {},
   "outputs": [
    {
     "data": {
      "text/plain": [
       "<sklearn.metrics._plot.confusion_matrix.ConfusionMatrixDisplay at 0x7ff3182d9a90>"
      ]
     },
     "execution_count": 28,
     "metadata": {},
     "output_type": "execute_result"
    },
    {
     "data": {
      "image/png": "[encoded data removed]",
      "text/plain": [
       "<Figure size 432x288 with 2 Axes>"
      ]
     },
     "metadata": {
      "needs_background": "light"
     },
     "output_type": "display_data"
    }
   ],
   "source": [
    "clf.fit(X_train, y_train)\n",
    "y_pred = clf.predict(X_test)\n",
    "\n",
    "cm=confusion_matrix(y_test, y_pred)\n",
    "tn, fp, fn, tp = confusion_matrix(y_test, y_pred).ravel()\n",
    "\n",
    "disp = ConfusionMatrixDisplay(confusion_matrix=cm,display_labels=clf.classes_)\n",
    "disp.plot(cmap='GnBu') "
   ]
  },
  {
   "cell_type": "code",
   "execution_count": 29,
   "id": "3840295b",
   "metadata": {},
   "outputs": [
    {
     "name": "stdout",
     "output_type": "stream",
     "text": [
      "Specificity: 0.917\n",
      "Accuracy: 0.8011\n",
      "Precision: 0.9406\n",
      "Recall or Sensitivity: 0.7362\n",
      "F1 Score: 0.826\n"
     ]
    }
   ],
   "source": [
    "spec= round(tn/(tn+fp), 4)\n",
    "acc= round(metrics.accuracy_score(y_test, y_pred), 4)\n",
    "prec= round(metrics.precision_score(y_test, y_pred), 4)\n",
    "rec= round(metrics.recall_score(y_test, y_pred), 4)\n",
    "f1= round(metrics.f1_score(y_test, y_pred), 4)\n",
    "print ('Specificity:',spec)\n",
    "print ('Accuracy:',acc)\n",
    "print ('Precision:',prec)\n",
    "print ('Recall or Sensitivity:',rec)\n",
    "print ('F1 Score:',f1)"
   ]
  },
  {
   "cell_type": "code",
   "execution_count": 30,
   "id": "222c477a",
   "metadata": {},
   "outputs": [],
   "source": [
    "model='nb1'\n",
    "depdelay='yes'\n",
    "\n",
    "cur.execute(\"INSERT OR REPLACE INTO s13_models(model,dep_delay,Specificity, Accuracy, Precision, Recall, f1_score) VALUES(?,?,?,?,?,?,?)\",(model,depdelay,spec,acc,prec,rec,f1))\n",
    "conn.commit()"
   ]
  },
  {
   "cell_type": "markdown",
   "id": "85cffa82",
   "metadata": {},
   "source": [
    "\n",
    "\n",
    "##### Ada Boost Classifier"
   ]
  },
  {
   "cell_type": "code",
   "execution_count": 32,
   "id": "427d46b8",
   "metadata": {},
   "outputs": [
    {
     "name": "stdout",
     "output_type": "stream",
     "text": [
      "Accuracy Score: 0.8305\n"
     ]
    }
   ],
   "source": [
    "ada = AdaBoostClassifier(n_estimators=12, random_state=42,algorithm='SAMME')\n",
    "score=cross_val_score(ada, X, y, cv=StratifiedKFold(n_splits=5), scoring='accuracy').mean()\n",
    "print('Accuracy Score: %.4f' % score)"
   ]
  },
  {
   "cell_type": "code",
   "execution_count": 33,
   "id": "f2c6bb5e",
   "metadata": {},
   "outputs": [
    {
     "data": {
      "text/plain": [
       "<sklearn.metrics._plot.confusion_matrix.ConfusionMatrixDisplay at 0x7ff3183ed670>"
      ]
     },
     "execution_count": 33,
     "metadata": {},
     "output_type": "execute_result"
    },
    {
     "data": {
      "image/png": "[encoded data removed]",
      "text/plain": [
       "<Figure size 432x288 with 2 Axes>"
      ]
     },
     "metadata": {
      "needs_background": "light"
     },
     "output_type": "display_data"
    }
   ],
   "source": [
    "ada.fit(X_train, y_train)\n",
    "y_pred = ada.predict(X_test)\n",
    "\n",
    "cm=confusion_matrix(y_test, y_pred)\n",
    "tn, fp, fn, tp = confusion_matrix(y_test, y_pred).ravel()\n",
    "\n",
    "disp = ConfusionMatrixDisplay(confusion_matrix=cm)\n",
    "disp.plot(cmap='GnBu') "
   ]
  },
  {
   "cell_type": "code",
   "execution_count": 34,
   "id": "5c1eedda",
   "metadata": {},
   "outputs": [
    {
     "name": "stdout",
     "output_type": "stream",
     "text": [
      "Specificity: 0.9083\n",
      "Accuracy: 0.8258\n",
      "Precision: 0.9382\n",
      "Recall or Sensitivity: 0.7795\n",
      "F1 Score: 0.8515\n"
     ]
    }
   ],
   "source": [
    "spec= round(tn/(tn+fp), 4)\n",
    "acc= round(metrics.accuracy_score(y_test, y_pred), 4)\n",
    "prec= round(metrics.precision_score(y_test, y_pred), 4)\n",
    "rec= round(metrics.recall_score(y_test, y_pred), 4)\n",
    "f1= round(metrics.f1_score(y_test, y_pred), 4)\n",
    "print ('Specificity:',spec)\n",
    "print ('Accuracy:',acc)\n",
    "print ('Precision:',prec)\n",
    "print ('Recall or Sensitivity:',rec)\n",
    "print ('F1 Score:',f1)"
   ]
  },
  {
   "cell_type": "code",
   "execution_count": 35,
   "id": "a9cb42b6",
   "metadata": {},
   "outputs": [],
   "source": [
    "model='ada1'\n",
    "depdelay='yes'\n",
    "\n",
    "cur.execute(\"INSERT OR REPLACE INTO s13_models(model,dep_delay,Specificity, Accuracy, Precision, Recall, f1_score) VALUES(?,?,?,?,?,?,?)\",(model,depdelay,spec,acc,prec,rec,f1))\n",
    "conn.commit()"
   ]
  },
  {
   "cell_type": "markdown",
   "id": "31559498",
   "metadata": {},
   "source": [
    "##### xgboost"
   ]
  },
  {
   "cell_type": "code",
   "execution_count": 12,
   "id": "a3a4eac8",
   "metadata": {},
   "outputs": [
    {
     "data": {
      "text/plain": [
       "0.643020127224629"
      ]
     },
     "execution_count": 12,
     "metadata": {},
     "output_type": "execute_result"
    }
   ],
   "source": [
    "xg_reg = xgb.XGBClassifier(objective=\"reg:squarederror\", booster=\"gblinear\", colsample_bytree = 0.3, learning_rate = 0.1,\n",
    "                           max_depth = 5, alpha = 10, n_estimators = 1000, verbosity = 0)\n",
    "scores = cross_val_score(xg_reg, X, y, cv=StratifiedKFold(n_splits=5), scoring='accuracy').mean()\n",
    "scores"
   ]
  },
  {
   "cell_type": "code",
   "execution_count": 14,
   "id": "92db2ca7",
   "metadata": {},
   "outputs": [
    {
     "name": "stdout",
     "output_type": "stream",
     "text": [
      "Accuracy: 0.725175\n"
     ]
    }
   ],
   "source": [
    "xg_reg.fit(X_train,y_train)\n",
    "preds = xg_reg.predict(X_test)\n",
    "\n",
    "acc = metrics.accuracy_score(y_test, preds)\n",
    "print(\"Accuracy: %f\" % (acc))"
   ]
  },
  {
   "cell_type": "code",
   "execution_count": 15,
   "id": "bfcbbeb6",
   "metadata": {},
   "outputs": [
    {
     "data": {
      "text/plain": [
       "<sklearn.metrics._plot.confusion_matrix.ConfusionMatrixDisplay at 0x7f8e64d3b9d0>"
      ]
     },
     "execution_count": 15,
     "metadata": {},
     "output_type": "execute_result"
    },
    {
     "data": {
      "image/png": "[encoded data removed]",
      "text/plain": [
       "<Figure size 432x288 with 2 Axes>"
      ]
     },
     "metadata": {
      "needs_background": "light"
     },
     "output_type": "display_data"
    }
   ],
   "source": [
    "xg_reg.fit(X_train, y_train)\n",
    "y_pred = xg_reg.predict(X_test)\n",
    "\n",
    "cm=confusion_matrix(y_test, y_pred)\n",
    "tn, fp, fn, tp = confusion_matrix(y_test, y_pred).ravel()\n",
    "\n",
    "disp = ConfusionMatrixDisplay(confusion_matrix=cm)\n",
    "disp.plot(cmap='GnBu') "
   ]
  },
  {
   "cell_type": "code",
   "execution_count": 16,
   "id": "01488b78",
   "metadata": {},
   "outputs": [
    {
     "name": "stdout",
     "output_type": "stream",
     "text": [
      "Specificity: 0.3712\n",
      "Accuracy: 0.7252\n",
      "Precision: 0.7168\n",
      "Recall or Sensitivity: 0.9326\n",
      "F1 Score: 0.8106\n"
     ]
    }
   ],
   "source": [
    "spec= round(tn/(tn+fp), 4)\n",
    "acc= round(metrics.accuracy_score(y_test, y_pred), 4)\n",
    "prec= round(metrics.precision_score(y_test, y_pred), 4)\n",
    "rec= round(metrics.recall_score(y_test, y_pred), 4)\n",
    "f1= round(metrics.f1_score(y_test, y_pred), 4)\n",
    "print ('Specificity:',spec)\n",
    "print ('Accuracy:',acc)\n",
    "print ('Precision:',prec)\n",
    "print ('Recall or Sensitivity:',rec)\n",
    "print ('F1 Score:',f1)"
   ]
  },
  {
   "cell_type": "code",
   "execution_count": 17,
   "id": "641eeb8f",
   "metadata": {},
   "outputs": [],
   "source": [
    "model='xgb1'\n",
    "depdelay='yes'\n",
    "\n",
    "cur.execute(\"INSERT OR REPLACE INTO s13_models(model,dep_delay,Specificity, Accuracy, Precision, Recall, f1_score) VALUES(?,?,?,?,?,?,?)\",(model,depdelay,spec,acc,prec,rec,f1))\n",
    "conn.commit()"
   ]
  },
  {
   "cell_type": "code",
   "execution_count": null,
   "id": "b36f0d07",
   "metadata": {},
   "outputs": [],
   "source": []
  }
 ],
 "metadata": {
  "kernelspec": {
   "display_name": "Python 3",
   "language": "python",
   "name": "python3"
  },
  "language_info": {
   "codemirror_mode": {
    "name": "ipython",
    "version": 3
   },
   "file_extension": ".py",
   "mimetype": "text/x-python",
   "name": "python",
   "nbconvert_exporter": "python",
   "pygments_lexer": "ipython3",
   "version": "3.8.5"
  }
 },
 "nbformat": 4,
 "nbformat_minor": 5
}
