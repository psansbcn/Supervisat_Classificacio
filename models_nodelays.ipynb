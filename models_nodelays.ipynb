{
 "cells": [
  {
   "cell_type": "markdown",
   "id": "aaeb21ab",
   "metadata": {},
   "source": [
    "### Classification models\n",
    "##### Without Departure Delay Column"
   ]
  },
  {
   "cell_type": "code",
   "execution_count": 1,
   "id": "0b547f14",
   "metadata": {},
   "outputs": [],
   "source": [
    "import numpy as np\n",
    "import pandas as pd\n",
    "\n",
    "import warnings\n",
    "warnings.simplefilter('ignore')\n",
    "\n",
    "from sklearn.model_selection import train_test_split, cross_val_score, StratifiedKFold\n",
    "from sklearn import metrics\n",
    "from sklearn.neighbors import KNeighborsClassifier\n",
    "from sklearn import svm\n",
    "from sklearn.linear_model import LogisticRegression, LinearRegression\n",
    "\n",
    "from sklearn.tree import DecisionTreeClassifier\n",
    "from sklearn.neural_network import MLPClassifier\n",
    "from sklearn.naive_bayes import GaussianNB\n",
    "from sklearn.gaussian_process import GaussianProcessClassifier\n",
    "from sklearn.gaussian_process.kernels import RBF\n",
    "\n",
    "from sklearn.ensemble import RandomForestClassifier, AdaBoostClassifier\n",
    "from sklearn.metrics import confusion_matrix, ConfusionMatrixDisplay, f1_score, classification_report\n",
    "\n",
    "import xgboost as xgb"
   ]
  },
  {
   "cell_type": "markdown",
   "id": "9e18c9d0",
   "metadata": {},
   "source": [
    "##### Load the SQL db for later comparison"
   ]
  },
  {
   "cell_type": "code",
   "execution_count": 2,
   "id": "5506859d",
   "metadata": {},
   "outputs": [],
   "source": [
    "import sqlite3\n",
    "conn=sqlite3.connect(\"models.db\")\n",
    "cur=conn.cursor()"
   ]
  },
  {
   "cell_type": "code",
   "execution_count": 3,
   "id": "9282f03e",
   "metadata": {},
   "outputs": [
    {
     "data": {
      "text/html": [
       "<div>\n",
       "<style scoped>\n",
       "    .dataframe tbody tr th:only-of-type {\n",
       "        vertical-align: middle;\n",
       "    }\n",
       "\n",
       "    .dataframe tbody tr th {\n",
       "        vertical-align: top;\n",
       "    }\n",
       "\n",
       "    .dataframe thead th {\n",
       "        text-align: right;\n",
       "    }\n",
       "</style>\n",
       "<table border=\"1\" class=\"dataframe\">\n",
       "  <thead>\n",
       "    <tr style=\"text-align: right;\">\n",
       "      <th></th>\n",
       "      <th>CRSElapsedTime</th>\n",
       "      <th>Distance</th>\n",
       "      <th>ArrDelay</th>\n",
       "      <th>DepTime_sin</th>\n",
       "      <th>DepTime_cos</th>\n",
       "      <th>ArrTime_sin</th>\n",
       "      <th>ArrTime_cos</th>\n",
       "      <th>Month_sin</th>\n",
       "      <th>Month_cos</th>\n",
       "      <th>DayOfWeek_sin</th>\n",
       "      <th>DayOfWeek_cos</th>\n",
       "      <th>origin_freq</th>\n",
       "      <th>dest_freq</th>\n",
       "      <th>carrier</th>\n",
       "    </tr>\n",
       "  </thead>\n",
       "  <tbody>\n",
       "    <tr>\n",
       "      <th>0</th>\n",
       "      <td>0.809309</td>\n",
       "      <td>0.701835</td>\n",
       "      <td>1</td>\n",
       "      <td>-0.570714</td>\n",
       "      <td>-0.821149</td>\n",
       "      <td>-0.984196</td>\n",
       "      <td>-0.177085</td>\n",
       "      <td>0.500000</td>\n",
       "      <td>8.660254e-01</td>\n",
       "      <td>0.433884</td>\n",
       "      <td>-0.900969</td>\n",
       "      <td>0.027331</td>\n",
       "      <td>0.010636</td>\n",
       "      <td>0.051448</td>\n",
       "    </tr>\n",
       "    <tr>\n",
       "      <th>1</th>\n",
       "      <td>0.320821</td>\n",
       "      <td>-0.577982</td>\n",
       "      <td>1</td>\n",
       "      <td>-0.918791</td>\n",
       "      <td>0.394744</td>\n",
       "      <td>-0.610836</td>\n",
       "      <td>0.791757</td>\n",
       "      <td>0.866025</td>\n",
       "      <td>5.000000e-01</td>\n",
       "      <td>-0.781831</td>\n",
       "      <td>0.623490</td>\n",
       "      <td>0.011053</td>\n",
       "      <td>0.018202</td>\n",
       "      <td>0.028130</td>\n",
       "    </tr>\n",
       "    <tr>\n",
       "      <th>2</th>\n",
       "      <td>0.910410</td>\n",
       "      <td>1.240061</td>\n",
       "      <td>1</td>\n",
       "      <td>-0.893371</td>\n",
       "      <td>-0.449319</td>\n",
       "      <td>-0.933580</td>\n",
       "      <td>0.358368</td>\n",
       "      <td>0.866025</td>\n",
       "      <td>-5.000000e-01</td>\n",
       "      <td>0.000000</td>\n",
       "      <td>1.000000</td>\n",
       "      <td>0.017769</td>\n",
       "      <td>0.022350</td>\n",
       "      <td>0.051448</td>\n",
       "    </tr>\n",
       "    <tr>\n",
       "      <th>3</th>\n",
       "      <td>0.770771</td>\n",
       "      <td>0.237003</td>\n",
       "      <td>1</td>\n",
       "      <td>-0.946930</td>\n",
       "      <td>0.321439</td>\n",
       "      <td>-0.423409</td>\n",
       "      <td>0.905939</td>\n",
       "      <td>1.000000</td>\n",
       "      <td>6.123234e-17</td>\n",
       "      <td>0.433884</td>\n",
       "      <td>-0.900969</td>\n",
       "      <td>0.016379</td>\n",
       "      <td>0.055796</td>\n",
       "      <td>0.059441</td>\n",
       "    </tr>\n",
       "    <tr>\n",
       "      <th>4</th>\n",
       "      <td>0.123123</td>\n",
       "      <td>-0.600917</td>\n",
       "      <td>1</td>\n",
       "      <td>-0.918791</td>\n",
       "      <td>-0.394744</td>\n",
       "      <td>-0.989651</td>\n",
       "      <td>-0.143493</td>\n",
       "      <td>1.000000</td>\n",
       "      <td>6.123234e-17</td>\n",
       "      <td>0.000000</td>\n",
       "      <td>1.000000</td>\n",
       "      <td>0.001825</td>\n",
       "      <td>0.014071</td>\n",
       "      <td>0.034908</td>\n",
       "    </tr>\n",
       "  </tbody>\n",
       "</table>\n",
       "</div>"
      ],
      "text/plain": [
       "   CRSElapsedTime  Distance  ArrDelay  DepTime_sin  DepTime_cos  ArrTime_sin  \\\n",
       "0        0.809309  0.701835         1    -0.570714    -0.821149    -0.984196   \n",
       "1        0.320821 -0.577982         1    -0.918791     0.394744    -0.610836   \n",
       "2        0.910410  1.240061         1    -0.893371    -0.449319    -0.933580   \n",
       "3        0.770771  0.237003         1    -0.946930     0.321439    -0.423409   \n",
       "4        0.123123 -0.600917         1    -0.918791    -0.394744    -0.989651   \n",
       "\n",
       "   ArrTime_cos  Month_sin     Month_cos  DayOfWeek_sin  DayOfWeek_cos  \\\n",
       "0    -0.177085   0.500000  8.660254e-01       0.433884      -0.900969   \n",
       "1     0.791757   0.866025  5.000000e-01      -0.781831       0.623490   \n",
       "2     0.358368   0.866025 -5.000000e-01       0.000000       1.000000   \n",
       "3     0.905939   1.000000  6.123234e-17       0.433884      -0.900969   \n",
       "4    -0.143493   1.000000  6.123234e-17       0.000000       1.000000   \n",
       "\n",
       "   origin_freq  dest_freq   carrier  \n",
       "0     0.027331   0.010636  0.051448  \n",
       "1     0.011053   0.018202  0.028130  \n",
       "2     0.017769   0.022350  0.051448  \n",
       "3     0.016379   0.055796  0.059441  \n",
       "4     0.001825   0.014071  0.034908  "
      ]
     },
     "execution_count": 3,
     "metadata": {},
     "output_type": "execute_result"
    }
   ],
   "source": [
    "#Loading the dataset\n",
    "df=pd.read_csv('depdelay20enc.csv', index_col=False, warn_bad_lines=True, error_bad_lines=False)\n",
    "df=df.drop(['Unnamed: 0','DepDelay'],axis=1)\n",
    "df = df.sample(frac =.01).reset_index().drop(['index'], axis=1)\n",
    "df.head()"
   ]
  },
  {
   "cell_type": "markdown",
   "id": "110cbf34",
   "metadata": {},
   "source": [
    "##### Split Train and Test  and set ArrDelay as target column"
   ]
  },
  {
   "cell_type": "code",
   "execution_count": 4,
   "id": "34a10b8d",
   "metadata": {},
   "outputs": [],
   "source": [
    "X,y = df.loc[:, df.columns != 'ArrDelay'],df.loc[:, df.columns == 'ArrDelay']\n",
    "\n",
    "X_train,X_test, y_train, y_test = train_test_split(X,y, test_size=0.25, random_state=42, stratify=y)"
   ]
  },
  {
   "cell_type": "markdown",
   "id": "59d5d59a",
   "metadata": {},
   "source": [
    "##### Support Vector Classification"
   ]
  },
  {
   "cell_type": "code",
   "execution_count": 40,
   "id": "67930e37",
   "metadata": {},
   "outputs": [
    {
     "name": "stdout",
     "output_type": "stream",
     "text": [
      "Accuracy Score: 0.6606\n"
     ]
    }
   ],
   "source": [
    "clf = svm.SVC(kernel='linear', random_state=42, gamma='auto')\n",
    "scores = cross_val_score(clf, X, y, cv=StratifiedKFold(n_splits=5), scoring='accuracy').mean()\n",
    "print('Accuracy Score: %.4f' % scores)"
   ]
  },
  {
   "cell_type": "code",
   "execution_count": 41,
   "id": "43ff8aa3",
   "metadata": {},
   "outputs": [],
   "source": [
    "clf.fit(X_train, y_train)\n",
    "y_pred = clf.predict(X_test)\n",
    "#y_pred = (clf.predict_proba(X_test)[:,1] = 0.1).astype(bool) # set threshold as 0.3"
   ]
  },
  {
   "cell_type": "code",
   "execution_count": 42,
   "id": "6166897b",
   "metadata": {},
   "outputs": [],
   "source": [
    "cm=confusion_matrix(y_test, y_pred)\n",
    "tn, fp, fn, tp = confusion_matrix(y_test, y_pred).ravel()"
   ]
  },
  {
   "cell_type": "code",
   "execution_count": 43,
   "id": "1f52f870",
   "metadata": {},
   "outputs": [
    {
     "data": {
      "text/plain": [
       "<sklearn.metrics._plot.confusion_matrix.ConfusionMatrixDisplay at 0x7fba52412220>"
      ]
     },
     "execution_count": 43,
     "metadata": {},
     "output_type": "execute_result"
    },
    {
     "data": {
      "image/png": "[encoded data removed]",
      "text/plain": [
       "<Figure size 432x288 with 2 Axes>"
      ]
     },
     "metadata": {
      "needs_background": "light"
     },
     "output_type": "display_data"
    }
   ],
   "source": [
    "disp = ConfusionMatrixDisplay(confusion_matrix=cm,display_labels=clf.classes_)\n",
    "disp.plot(cmap='OrRd') "
   ]
  },
  {
   "cell_type": "code",
   "execution_count": 44,
   "id": "fe72db84",
   "metadata": {},
   "outputs": [
    {
     "name": "stdout",
     "output_type": "stream",
     "text": [
      "Specificity: 0.0\n",
      "Accuracy: 0.6601\n",
      "Precision: 0.6601\n",
      "Recall or Sensitivity: 1.0\n",
      "F1 Score: 0.7953\n"
     ]
    }
   ],
   "source": [
    "#Specificity = TN / (TN + FP)\n",
    "spec= round(tn/(tn+fp), 4)\n",
    "acc= round(metrics.accuracy_score(y_test, y_pred), 4)\n",
    "prec= round(metrics.precision_score(y_test, y_pred), 4)\n",
    "rec= round(metrics.recall_score(y_test, y_pred), 4)\n",
    "f1= round(metrics.f1_score(y_test, y_pred), 4)\n",
    "print ('Specificity:',spec)\n",
    "print ('Accuracy:',acc)\n",
    "print ('Precision:',prec)\n",
    "print ('Recall or Sensitivity:',rec)\n",
    "print ('F1 Score:',f1)"
   ]
  },
  {
   "cell_type": "code",
   "execution_count": 45,
   "id": "cbc5f79c",
   "metadata": {},
   "outputs": [],
   "source": [
    "model='sv2'\n",
    "depdelay='no'\n",
    "\n",
    "cur.execute(\"INSERT OR REPLACE INTO s13_models(model,dep_delay,Specificity, Accuracy, Precision, Recall, f1_score) VALUES(?,?,?,?,?,?,?)\",(model,depdelay,spec,acc,prec,rec,f1))\n",
    "conn.commit()"
   ]
  },
  {
   "cell_type": "markdown",
   "id": "adf02318",
   "metadata": {},
   "source": [
    "##### KNN K-Nearest Neighbors"
   ]
  },
  {
   "cell_type": "code",
   "execution_count": 46,
   "id": "5d24e677",
   "metadata": {},
   "outputs": [
    {
     "name": "stdout",
     "output_type": "stream",
     "text": [
      "Accuracy Score: 0.6534\n"
     ]
    }
   ],
   "source": [
    "knn = KNeighborsClassifier(n_neighbors=32)\n",
    "score=cross_val_score(knn, X, y, cv=StratifiedKFold(n_splits=5), scoring='accuracy').mean()\n",
    "print('Accuracy Score: %.4f' % score)"
   ]
  },
  {
   "cell_type": "code",
   "execution_count": 47,
   "id": "be9f1944",
   "metadata": {},
   "outputs": [
    {
     "data": {
      "text/plain": [
       "<sklearn.metrics._plot.confusion_matrix.ConfusionMatrixDisplay at 0x7fba5a1a5d60>"
      ]
     },
     "execution_count": 47,
     "metadata": {},
     "output_type": "execute_result"
    },
    {
     "data": {
      "image/png": "[encoded data removed]",
      "text/plain": [
       "<Figure size 432x288 with 2 Axes>"
      ]
     },
     "metadata": {
      "needs_background": "light"
     },
     "output_type": "display_data"
    }
   ],
   "source": [
    "knn.fit(X_train, y_train)\n",
    "y_pred = knn.predict(X_test)\n",
    "\n",
    "cm=confusion_matrix(y_test, y_pred)\n",
    "tn, fp, fn, tp = confusion_matrix(y_test, y_pred).ravel()\n",
    "\n",
    "disp = ConfusionMatrixDisplay(confusion_matrix=cm,display_labels=clf.classes_)\n",
    "disp.plot(cmap='OrRd') \n"
   ]
  },
  {
   "cell_type": "code",
   "execution_count": 48,
   "id": "b8191b0a",
   "metadata": {},
   "outputs": [
    {
     "name": "stdout",
     "output_type": "stream",
     "text": [
      "Specificity: 0.1128\n",
      "Accuracy: 0.6477\n",
      "Precision: 0.6689\n",
      "Recall or Sensitivity: 0.9231\n",
      "F1 Score: 0.7757\n"
     ]
    }
   ],
   "source": [
    "spec= round(tn/(tn+fp), 4)\n",
    "acc= round(metrics.accuracy_score(y_test, y_pred), 4)\n",
    "prec= round(metrics.precision_score(y_test, y_pred), 4)\n",
    "rec= round(metrics.recall_score(y_test, y_pred), 4)\n",
    "f1= round(metrics.f1_score(y_test, y_pred), 4)\n",
    "print ('Specificity:',spec)\n",
    "print ('Accuracy:',acc)\n",
    "print ('Precision:',prec)\n",
    "print ('Recall or Sensitivity:',rec)\n",
    "print ('F1 Score:',f1)"
   ]
  },
  {
   "cell_type": "code",
   "execution_count": 49,
   "id": "0b0207d6",
   "metadata": {},
   "outputs": [],
   "source": [
    "model='knn2'\n",
    "depdelay='no'\n",
    "\n",
    "cur.execute(\"INSERT OR REPLACE INTO s13_models(model,dep_delay,Specificity, Accuracy, Precision, Recall, f1_score) VALUES(?,?,?,?,?,?,?)\",(model,depdelay,spec,acc,prec,rec,f1))\n",
    "conn.commit()"
   ]
  },
  {
   "cell_type": "markdown",
   "id": "757aac51",
   "metadata": {},
   "source": [
    "\n",
    "\n",
    "\n",
    "##### logistic regression"
   ]
  },
  {
   "cell_type": "code",
   "execution_count": 50,
   "id": "b84984af",
   "metadata": {},
   "outputs": [
    {
     "name": "stdout",
     "output_type": "stream",
     "text": [
      "Accuracy Score: 0.6596\n"
     ]
    }
   ],
   "source": [
    "logreg = LogisticRegression(solver='liblinear')\n",
    "score=cross_val_score(logreg, X, y, cv=StratifiedKFold(n_splits=5), scoring='accuracy').mean()\n",
    "print('Accuracy Score: %.4f' % score)"
   ]
  },
  {
   "cell_type": "code",
   "execution_count": 51,
   "id": "bafb3a3d",
   "metadata": {},
   "outputs": [
    {
     "data": {
      "text/plain": [
       "<sklearn.metrics._plot.confusion_matrix.ConfusionMatrixDisplay at 0x7fba01aa4f70>"
      ]
     },
     "execution_count": 51,
     "metadata": {},
     "output_type": "execute_result"
    },
    {
     "data": {
      "image/png": "[encoded data removed]",
      "text/plain": [
       "<Figure size 432x288 with 2 Axes>"
      ]
     },
     "metadata": {
      "needs_background": "light"
     },
     "output_type": "display_data"
    }
   ],
   "source": [
    "logreg.fit(X_train, y_train)\n",
    "y_pred = logreg.predict(X_test)\n",
    "\n",
    "cm=confusion_matrix(y_test, y_pred)\n",
    "tn, fp, fn, tp = confusion_matrix(y_test, y_pred).ravel()\n",
    "\n",
    "disp = ConfusionMatrixDisplay(confusion_matrix=cm,display_labels=clf.classes_)\n",
    "disp.plot(cmap='OrRd') "
   ]
  },
  {
   "cell_type": "code",
   "execution_count": 52,
   "id": "75d2e300",
   "metadata": {},
   "outputs": [
    {
     "name": "stdout",
     "output_type": "stream",
     "text": [
      "Specificity: 0.0549\n",
      "Accuracy: 0.6497\n",
      "Precision: 0.6627\n",
      "Recall or Sensitivity: 0.956\n",
      "F1 Score: 0.7828\n"
     ]
    }
   ],
   "source": [
    "spec= round(tn/(tn+fp), 4)\n",
    "acc= round(metrics.accuracy_score(y_test, y_pred), 4)\n",
    "prec= round(metrics.precision_score(y_test, y_pred), 4)\n",
    "rec= round(metrics.recall_score(y_test, y_pred), 4)\n",
    "f1= round(metrics.f1_score(y_test, y_pred), 4)\n",
    "print ('Specificity:',spec)\n",
    "print ('Accuracy:',acc)\n",
    "print ('Precision:',prec)\n",
    "print ('Recall or Sensitivity:',rec)\n",
    "print ('F1 Score:',f1)"
   ]
  },
  {
   "cell_type": "code",
   "execution_count": 53,
   "id": "269f0821",
   "metadata": {},
   "outputs": [],
   "source": [
    "model='lg2'\n",
    "depdelay='no'\n",
    "\n",
    "cur.execute(\"INSERT OR REPLACE INTO s13_models(model,dep_delay,Specificity, Accuracy, Precision, Recall, f1_score) VALUES(?,?,?,?,?,?,?)\",(model,depdelay,spec,acc,prec,rec,f1))\n",
    "conn.commit()"
   ]
  },
  {
   "cell_type": "markdown",
   "id": "1b1b5fe5",
   "metadata": {},
   "source": [
    "\n",
    "\n",
    "\n",
    "##### Decision Tree"
   ]
  },
  {
   "cell_type": "code",
   "execution_count": 54,
   "id": "3eae131e",
   "metadata": {},
   "outputs": [
    {
     "name": "stdout",
     "output_type": "stream",
     "text": [
      "Accuracy Score: 0.6606\n"
     ]
    }
   ],
   "source": [
    "clf = DecisionTreeClassifier(criterion=\"gini\", max_depth=4, random_state=42)\n",
    "scores=cross_val_score(clf, X, y, cv=StratifiedKFold(n_splits=5), scoring='accuracy').mean()\n",
    "print('Accuracy Score: %.4f' % scores)"
   ]
  },
  {
   "cell_type": "code",
   "execution_count": 55,
   "id": "1a2581bd",
   "metadata": {},
   "outputs": [
    {
     "data": {
      "text/plain": [
       "<sklearn.metrics._plot.confusion_matrix.ConfusionMatrixDisplay at 0x7fba52608e80>"
      ]
     },
     "execution_count": 55,
     "metadata": {},
     "output_type": "execute_result"
    },
    {
     "data": {
      "image/png": "[encoded data removed]",
      "text/plain": [
       "<Figure size 432x288 with 2 Axes>"
      ]
     },
     "metadata": {
      "needs_background": "light"
     },
     "output_type": "display_data"
    }
   ],
   "source": [
    "clf.fit(X_train, y_train)\n",
    "y_pred = clf.predict(X_test)\n",
    "\n",
    "cm=confusion_matrix(y_test, y_pred)\n",
    "tn, fp, fn, tp = confusion_matrix(y_test, y_pred).ravel()\n",
    "\n",
    "disp = ConfusionMatrixDisplay(confusion_matrix=cm,display_labels=clf.classes_)\n",
    "disp.plot(cmap='OrRd') "
   ]
  },
  {
   "cell_type": "code",
   "execution_count": 56,
   "id": "407b3778",
   "metadata": {},
   "outputs": [
    {
     "name": "stdout",
     "output_type": "stream",
     "text": [
      "Specificity: 0.1555\n",
      "Accuracy: 0.6415\n",
      "Precision: 0.6722\n",
      "Recall or Sensitivity: 0.8917\n",
      "F1 Score: 0.7665\n"
     ]
    }
   ],
   "source": [
    "spec= round(tn/(tn+fp), 4)\n",
    "acc= round(metrics.accuracy_score(y_test, y_pred), 4)\n",
    "prec= round(metrics.precision_score(y_test, y_pred), 4)\n",
    "rec= round(metrics.recall_score(y_test, y_pred), 4)\n",
    "f1= round(metrics.f1_score(y_test, y_pred), 4)\n",
    "print ('Specificity:',spec)\n",
    "print ('Accuracy:',acc)\n",
    "print ('Precision:',prec)\n",
    "print ('Recall or Sensitivity:',rec)\n",
    "print ('F1 Score:',f1)"
   ]
  },
  {
   "cell_type": "code",
   "execution_count": 57,
   "id": "88d8f756",
   "metadata": {},
   "outputs": [],
   "source": [
    "model='dt2'\n",
    "depdelay='no'\n",
    "\n",
    "cur.execute(\"INSERT OR REPLACE INTO s13_models(model,dep_delay,Specificity, Accuracy, Precision, Recall, f1_score) VALUES(?,?,?,?,?,?,?)\",(model,depdelay,spec,acc,prec,rec,f1))\n",
    "conn.commit()"
   ]
  },
  {
   "cell_type": "markdown",
   "id": "c997f728",
   "metadata": {},
   "source": [
    "\n",
    "\n",
    "\n",
    "##### neural network MLPClassifier"
   ]
  },
  {
   "cell_type": "code",
   "execution_count": 58,
   "id": "3a406272",
   "metadata": {},
   "outputs": [
    {
     "name": "stdout",
     "output_type": "stream",
     "text": [
      "Accuracy Score: 0.6606\n"
     ]
    }
   ],
   "source": [
    "mlp = MLPClassifier(hidden_layer_sizes=(20, 10, 5), max_iter=50, activation = 'relu',solver='adam',random_state=42)\n",
    "score=cross_val_score(mlp, X, y, cv=StratifiedKFold(n_splits=10), scoring='accuracy').mean()\n",
    "print('Accuracy Score: %.4f' % score)"
   ]
  },
  {
   "cell_type": "code",
   "execution_count": 59,
   "id": "2df68937",
   "metadata": {},
   "outputs": [
    {
     "data": {
      "text/plain": [
       "<sklearn.metrics._plot.confusion_matrix.ConfusionMatrixDisplay at 0x7fba522265b0>"
      ]
     },
     "execution_count": 59,
     "metadata": {},
     "output_type": "execute_result"
    },
    {
     "data": {
      "image/png": "[encoded data removed]",
      "text/plain": [
       "<Figure size 432x288 with 2 Axes>"
      ]
     },
     "metadata": {
      "needs_background": "light"
     },
     "output_type": "display_data"
    }
   ],
   "source": [
    "mlp.fit(X_train, y_train)\n",
    "y_pred = mlp.predict(X_test)\n",
    "\n",
    "cm=confusion_matrix(y_test, y_pred)\n",
    "tn, fp, fn, tp = confusion_matrix(y_test, y_pred).ravel()\n",
    "\n",
    "disp = ConfusionMatrixDisplay(confusion_matrix=cm,display_labels=clf.classes_)\n",
    "disp.plot(cmap='OrRd') "
   ]
  },
  {
   "cell_type": "code",
   "execution_count": 60,
   "id": "da9659b7",
   "metadata": {},
   "outputs": [
    {
     "name": "stdout",
     "output_type": "stream",
     "text": [
      "Specificity: 0.1067\n",
      "Accuracy: 0.658\n",
      "Precision: 0.6719\n",
      "Recall or Sensitivity: 0.9419\n",
      "F1 Score: 0.7843\n"
     ]
    }
   ],
   "source": [
    "spec= round(tn/(tn+fp), 4)\n",
    "acc= round(metrics.accuracy_score(y_test, y_pred), 4)\n",
    "prec= round(metrics.precision_score(y_test, y_pred), 4)\n",
    "rec= round(metrics.recall_score(y_test, y_pred), 4)\n",
    "f1= round(metrics.f1_score(y_test, y_pred), 4)\n",
    "print ('Specificity:',spec)\n",
    "print ('Accuracy:',acc)\n",
    "print ('Precision:',prec)\n",
    "print ('Recall or Sensitivity:',rec)\n",
    "print ('F1 Score:',f1)"
   ]
  },
  {
   "cell_type": "code",
   "execution_count": 61,
   "id": "bc519a97",
   "metadata": {},
   "outputs": [],
   "source": [
    "model='nn2'\n",
    "depdelay='no'\n",
    "\n",
    "cur.execute(\"INSERT OR REPLACE INTO s13_models(model,dep_delay,Specificity, Accuracy, Precision, Recall, f1_score) VALUES(?,?,?,?,?,?,?)\",(model,depdelay,spec,acc,prec,rec,f1))\n",
    "conn.commit()"
   ]
  },
  {
   "cell_type": "markdown",
   "id": "c9ecf846",
   "metadata": {},
   "source": [
    "##### Gaussian Naive Bayes"
   ]
  },
  {
   "cell_type": "code",
   "execution_count": 62,
   "id": "f5ab8fe3",
   "metadata": {},
   "outputs": [
    {
     "name": "stdout",
     "output_type": "stream",
     "text": [
      "Accuracy Score: 0.6259\n"
     ]
    }
   ],
   "source": [
    "clf = GaussianNB()\n",
    "score=cross_val_score(clf, X, y, cv=StratifiedKFold(n_splits=5), scoring='accuracy').mean()\n",
    "print('Accuracy Score: %.4f' % score)"
   ]
  },
  {
   "cell_type": "code",
   "execution_count": 63,
   "id": "a651022f",
   "metadata": {},
   "outputs": [
    {
     "data": {
      "text/plain": [
       "<sklearn.metrics._plot.confusion_matrix.ConfusionMatrixDisplay at 0x7fba52406670>"
      ]
     },
     "execution_count": 63,
     "metadata": {},
     "output_type": "execute_result"
    },
    {
     "data": {
      "image/png": "[encoded data removed]",
      "text/plain": [
       "<Figure size 432x288 with 2 Axes>"
      ]
     },
     "metadata": {
      "needs_background": "light"
     },
     "output_type": "display_data"
    }
   ],
   "source": [
    "clf.fit(X_train, y_train)\n",
    "y_pred = clf.predict(X_test)\n",
    "\n",
    "cm=confusion_matrix(y_test, y_pred)\n",
    "tn, fp, fn, tp = confusion_matrix(y_test, y_pred).ravel()\n",
    "\n",
    "disp = ConfusionMatrixDisplay(confusion_matrix=cm,display_labels=clf.classes_)\n",
    "disp.plot(cmap='OrRd') "
   ]
  },
  {
   "cell_type": "code",
   "execution_count": 64,
   "id": "3840295b",
   "metadata": {},
   "outputs": [
    {
     "name": "stdout",
     "output_type": "stream",
     "text": [
      "Specificity: 0.3384\n",
      "Accuracy: 0.6238\n",
      "Precision: 0.6935\n",
      "Recall or Sensitivity: 0.7708\n",
      "F1 Score: 0.7301\n"
     ]
    }
   ],
   "source": [
    "spec= round(tn/(tn+fp), 4)\n",
    "acc= round(metrics.accuracy_score(y_test, y_pred), 4)\n",
    "prec= round(metrics.precision_score(y_test, y_pred), 4)\n",
    "rec= round(metrics.recall_score(y_test, y_pred), 4)\n",
    "f1= round(metrics.f1_score(y_test, y_pred), 4)\n",
    "print ('Specificity:',spec)\n",
    "print ('Accuracy:',acc)\n",
    "print ('Precision:',prec)\n",
    "print ('Recall or Sensitivity:',rec)\n",
    "print ('F1 Score:',f1)"
   ]
  },
  {
   "cell_type": "code",
   "execution_count": 65,
   "id": "222c477a",
   "metadata": {},
   "outputs": [],
   "source": [
    "model='nb2'\n",
    "depdelay='no'\n",
    "\n",
    "cur.execute(\"INSERT OR REPLACE INTO s13_models(model,dep_delay,Specificity, Accuracy, Precision, Recall, f1_score) VALUES(?,?,?,?,?,?,?)\",(model,depdelay,spec,acc,prec,rec,f1))\n",
    "conn.commit()"
   ]
  },
  {
   "cell_type": "markdown",
   "id": "85cffa82",
   "metadata": {},
   "source": [
    "\n",
    "\n",
    "##### Ada Boost Classifier"
   ]
  },
  {
   "cell_type": "code",
   "execution_count": 66,
   "id": "427d46b8",
   "metadata": {},
   "outputs": [
    {
     "name": "stdout",
     "output_type": "stream",
     "text": [
      "Accuracy Score: 0.6611\n"
     ]
    }
   ],
   "source": [
    "ada = AdaBoostClassifier(n_estimators=12, random_state=42,algorithm='SAMME')\n",
    "score=cross_val_score(ada, X, y, cv=StratifiedKFold(n_splits=5), scoring='accuracy').mean()\n",
    "print('Accuracy Score: %.4f' % score)"
   ]
  },
  {
   "cell_type": "code",
   "execution_count": 67,
   "id": "f2c6bb5e",
   "metadata": {},
   "outputs": [
    {
     "data": {
      "text/plain": [
       "<sklearn.metrics._plot.confusion_matrix.ConfusionMatrixDisplay at 0x7fb9f23dbe50>"
      ]
     },
     "execution_count": 67,
     "metadata": {},
     "output_type": "execute_result"
    },
    {
     "data": {
      "image/png": "[encoded data removed]",
      "text/plain": [
       "<Figure size 432x288 with 2 Axes>"
      ]
     },
     "metadata": {
      "needs_background": "light"
     },
     "output_type": "display_data"
    }
   ],
   "source": [
    "ada.fit(X_train, y_train)\n",
    "y_pred = ada.predict(X_test)\n",
    "\n",
    "cm=confusion_matrix(y_test, y_pred)\n",
    "tn, fp, fn, tp = confusion_matrix(y_test, y_pred).ravel()\n",
    "\n",
    "disp = ConfusionMatrixDisplay(confusion_matrix=cm)\n",
    "disp.plot(cmap='OrRd') "
   ]
  },
  {
   "cell_type": "code",
   "execution_count": 68,
   "id": "5c1eedda",
   "metadata": {},
   "outputs": [
    {
     "name": "stdout",
     "output_type": "stream",
     "text": [
      "Specificity: 0.0762\n",
      "Accuracy: 0.6601\n",
      "Precision: 0.6689\n",
      "Recall or Sensitivity: 0.9608\n",
      "F1 Score: 0.7887\n"
     ]
    }
   ],
   "source": [
    "spec= round(tn/(tn+fp), 4)\n",
    "acc= round(metrics.accuracy_score(y_test, y_pred), 4)\n",
    "prec= round(metrics.precision_score(y_test, y_pred), 4)\n",
    "rec= round(metrics.recall_score(y_test, y_pred), 4)\n",
    "f1= round(metrics.f1_score(y_test, y_pred), 4)\n",
    "print ('Specificity:',spec)\n",
    "print ('Accuracy:',acc)\n",
    "print ('Precision:',prec)\n",
    "print ('Recall or Sensitivity:',rec)\n",
    "print ('F1 Score:',f1)"
   ]
  },
  {
   "cell_type": "code",
   "execution_count": 69,
   "id": "a9cb42b6",
   "metadata": {},
   "outputs": [],
   "source": [
    "model='ada2'\n",
    "depdelay='no'\n",
    "\n",
    "cur.execute(\"INSERT OR REPLACE INTO s13_models(model,dep_delay,Specificity, Accuracy, Precision, Recall, f1_score) VALUES(?,?,?,?,?,?,?)\",(model,depdelay,spec,acc,prec,rec,f1))\n",
    "conn.commit()"
   ]
  },
  {
   "cell_type": "markdown",
   "id": "f641f90b",
   "metadata": {},
   "source": [
    "##### Gaussian Process Classifier"
   ]
  },
  {
   "cell_type": "code",
   "execution_count": 35,
   "id": "e58e599e",
   "metadata": {},
   "outputs": [
    {
     "name": "stdout",
     "output_type": "stream",
     "text": [
      "Accuracy Score: 0.6614\n"
     ]
    }
   ],
   "source": [
    "gpc = GaussianProcessClassifier(kernel=1*RBF(1.0))\n",
    "score=cross_val_score(gpc, X, y, cv=StratifiedKFold(n_splits=5), scoring='accuracy').mean()\n",
    "print('Accuracy Score: %.4f' % score)"
   ]
  },
  {
   "cell_type": "code",
   "execution_count": 36,
   "id": "8236b9a4",
   "metadata": {},
   "outputs": [
    {
     "data": {
      "text/plain": [
       "<sklearn.metrics._plot.confusion_matrix.ConfusionMatrixDisplay at 0x7fba5a0cba60>"
      ]
     },
     "execution_count": 36,
     "metadata": {},
     "output_type": "execute_result"
    },
    {
     "data": {
      "image/png": "[encoded data removed]",
      "text/plain": [
       "<Figure size 432x288 with 2 Axes>"
      ]
     },
     "metadata": {
      "needs_background": "light"
     },
     "output_type": "display_data"
    }
   ],
   "source": [
    "gpc.fit(X_train, y_train)\n",
    "y_pred = gpc.predict(X_test)\n",
    "\n",
    "cm=confusion_matrix(y_test, y_pred)\n",
    "tn, fp, fn, tp = confusion_matrix(y_test, y_pred).ravel()\n",
    "\n",
    "disp = ConfusionMatrixDisplay(confusion_matrix=cm)\n",
    "disp.plot(cmap='OrRd') "
   ]
  },
  {
   "cell_type": "code",
   "execution_count": 37,
   "id": "faa3823e",
   "metadata": {},
   "outputs": [
    {
     "name": "stdout",
     "output_type": "stream",
     "text": [
      "Specificity: 0.0518\n",
      "Accuracy: 0.6518\n",
      "Precision: 0.6631\n",
      "Recall or Sensitivity: 0.9608\n",
      "F1 Score: 0.7846\n"
     ]
    }
   ],
   "source": [
    "spec= round(tn/(tn+fp), 4)\n",
    "acc= round(metrics.accuracy_score(y_test, y_pred), 4)\n",
    "prec= round(metrics.precision_score(y_test, y_pred), 4)\n",
    "rec= round(metrics.recall_score(y_test, y_pred), 4)\n",
    "f1= round(metrics.f1_score(y_test, y_pred), 4)\n",
    "print ('Specificity:',spec)\n",
    "print ('Accuracy:',acc)\n",
    "print ('Precision:',prec)\n",
    "print ('Recall or Sensitivity:',rec)\n",
    "print ('F1 Score:',f1)"
   ]
  },
  {
   "cell_type": "code",
   "execution_count": 38,
   "id": "36bec134",
   "metadata": {},
   "outputs": [],
   "source": [
    "model='gp2'\n",
    "depdelay='no'\n",
    "\n",
    "cur.execute(\"INSERT OR REPLACE INTO s13_models(model,dep_delay,Specificity, Accuracy, Precision, Recall, f1_score) VALUES(?,?,?,?,?,?,?)\",(model,depdelay,spec,acc,prec,rec,f1))\n",
    "conn.commit()"
   ]
  },
  {
   "cell_type": "markdown",
   "id": "3f62e1a5",
   "metadata": {},
   "source": [
    "##### xgboost"
   ]
  },
  {
   "cell_type": "code",
   "execution_count": 5,
   "id": "d1dc6946",
   "metadata": {},
   "outputs": [
    {
     "data": {
      "text/plain": [
       "0.6333938159848927"
      ]
     },
     "execution_count": 5,
     "metadata": {},
     "output_type": "execute_result"
    }
   ],
   "source": [
    "xg_reg = xgb.XGBClassifier(objective=\"reg:squarederror\", booster=\"gblinear\", colsample_bytree = 0.3, learning_rate = 0.1,\n",
    "                           max_depth = 5, alpha = 10, n_estimators = 1000, verbosity = 0)\n",
    "scores = cross_val_score(xg_reg, X, y, cv=StratifiedKFold(n_splits=5), scoring='accuracy').mean()\n",
    "scores"
   ]
  },
  {
   "cell_type": "code",
   "execution_count": 6,
   "id": "32a591e2",
   "metadata": {},
   "outputs": [
    {
     "name": "stdout",
     "output_type": "stream",
     "text": [
      "Accuracy: 0.633161\n"
     ]
    }
   ],
   "source": [
    "xg_reg.fit(X_train,y_train)\n",
    "preds = xg_reg.predict(X_test)\n",
    "\n",
    "acc = metrics.accuracy_score(y_test, preds)\n",
    "print(\"Accuracy: %f\" % (acc))"
   ]
  },
  {
   "cell_type": "code",
   "execution_count": 7,
   "id": "1bca863b",
   "metadata": {},
   "outputs": [
    {
     "data": {
      "text/plain": [
       "<sklearn.metrics._plot.confusion_matrix.ConfusionMatrixDisplay at 0x7fc2b6353ee0>"
      ]
     },
     "execution_count": 7,
     "metadata": {},
     "output_type": "execute_result"
    },
    {
     "data": {
      "image/png": "[encoded data removed]",
      "text/plain": [
       "<Figure size 432x288 with 2 Axes>"
      ]
     },
     "metadata": {
      "needs_background": "light"
     },
     "output_type": "display_data"
    }
   ],
   "source": [
    "xg_reg.fit(X_train, y_train)\n",
    "y_pred = xg_reg.predict(X_test)\n",
    "\n",
    "cm=confusion_matrix(y_test, y_pred)\n",
    "tn, fp, fn, tp = confusion_matrix(y_test, y_pred).ravel()\n",
    "\n",
    "disp = ConfusionMatrixDisplay(confusion_matrix=cm)\n",
    "disp.plot(cmap='OrRd') "
   ]
  },
  {
   "cell_type": "code",
   "execution_count": 8,
   "id": "e89a7dda",
   "metadata": {},
   "outputs": [
    {
     "name": "stdout",
     "output_type": "stream",
     "text": [
      "Specificity: 0.1497\n",
      "Accuracy: 0.6404\n",
      "Precision: 0.6524\n",
      "Recall or Sensitivity: 0.9247\n",
      "F1 Score: 0.7651\n"
     ]
    }
   ],
   "source": [
    "spec= round(tn/(tn+fp), 4)\n",
    "acc= round(metrics.accuracy_score(y_test, y_pred), 4)\n",
    "prec= round(metrics.precision_score(y_test, y_pred), 4)\n",
    "rec= round(metrics.recall_score(y_test, y_pred), 4)\n",
    "f1= round(metrics.f1_score(y_test, y_pred), 4)\n",
    "print ('Specificity:',spec)\n",
    "print ('Accuracy:',acc)\n",
    "print ('Precision:',prec)\n",
    "print ('Recall or Sensitivity:',rec)\n",
    "print ('F1 Score:',f1)"
   ]
  },
  {
   "cell_type": "code",
   "execution_count": 9,
   "id": "fa024001",
   "metadata": {},
   "outputs": [],
   "source": [
    "model='xgb2'\n",
    "depdelay='no'\n",
    "\n",
    "cur.execute(\"INSERT OR REPLACE INTO s13_models(model,dep_delay,Specificity, Accuracy, Precision, Recall, f1_score) VALUES(?,?,?,?,?,?,?)\",(model,depdelay,spec,acc,prec,rec,f1))\n",
    "conn.commit()"
   ]
  },
  {
   "cell_type": "code",
   "execution_count": null,
   "id": "2401ae60",
   "metadata": {},
   "outputs": [],
   "source": []
  }
 ],
 "metadata": {
  "kernelspec": {
   "display_name": "Python 3",
   "language": "python",
   "name": "python3"
  },
  "language_info": {
   "codemirror_mode": {
    "name": "ipython",
    "version": 3
   },
   "file_extension": ".py",
   "mimetype": "text/x-python",
   "name": "python",
   "nbconvert_exporter": "python",
   "pygments_lexer": "ipython3",
   "version": "3.8.5"
  }
 },
 "nbformat": 4,
 "nbformat_minor": 5
}
